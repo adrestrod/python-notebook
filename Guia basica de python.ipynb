{
 "cells": [
  {
   "cell_type": "markdown",
   "metadata": {},
   "source": [
    "# Guía básica de Python\n",
    "\n",
    "[![Autor](https://img.shields.io/badge/Autor-adrestrod-red)](https://github.com/adrestrod) [![Version](https://img.shields.io/badge/Version-1.0.0-blue)]() [![Build](https://img.shields.io/badge/Kernel-Python_3.10.6_64Bits-lightgreen)]()\n",
    "\n",
    "Esta es una guía básica de python para aprendizaje personal. Aquí anotaré las cosas qeu vaya aprendiendo y me parezca interesante guardar, así como ejemplos de código. \n",
    "\n",
    "También añadiré diferentes Snippets de código de ejemplo para mayor facilidad en el aprendizaje del lenguaje.\n",
    "\n",
    "Como ya es tradición al aprender un nuevo lenguaje de programación, pondré el **Hola Mundo** obligatorio."
   ]
  },
  {
   "cell_type": "code",
   "execution_count": 1,
   "metadata": {},
   "outputs": [
    {
     "name": "stdout",
     "output_type": "stream",
     "text": [
      "Hola Mundo!\n"
     ]
    }
   ],
   "source": [
    "print(\"Hola Mundo!\")"
   ]
  },
  {
   "cell_type": "markdown",
   "metadata": {},
   "source": [
    "Lo primero es lo primero, **Tipos de variables**:\n",
    "\n",
    "Python es un lenguaje *debilmente tipado*, el programa decide, en tiempo de ejecución, el tipo de datos que una variable contiene según el conteto de la mismo. Esto puede suponer un problema ya uqe puede dar lugar a errores, pero lo podemos ontrolar de una forma qeu veremos mas adelante.\n",
    "\n",
    "Python tiene los mismos tipos de datos que todos los lenguajes de programación, vease:\n",
    "\n",
    "* String: Cadenas de texto qeu pueden contener cualquier tipo de caracteres con los que no podremos realizar operaciones matematicas.\n",
    "* Integer: Números enteros.\n",
    "* Float: Números decimales.\n",
    "* Double: Numeros decimales pero con más capacidad en memoria.\n",
    "* Boolean: 0 o 1, true o false, valor binario, para lógica principalmente.\n",
    "* list: Array de datos.\n",
    "* dict: Array de datos con clave, como una base de datos en miniatura.\n",
    "\n",
    "Ejemplo de variables estandar en python:"
   ]
  },
  {
   "cell_type": "code",
   "execution_count": null,
   "metadata": {},
   "outputs": [],
   "source": [
    "# Variables en python\n",
    "\n",
    "String = \"Texto dentro de String\" # Variable string\n",
    "Int = 23 # Variable con numero entero\n",
    "Float = 345.34\n",
    "Double = 123.45\n",
    "List = [ \"Valor1\", \"Valor2\", \"Valor3\" ]\n",
    "Dict = { 1:\"Valor1\", 2:\"Valor2\" }"
   ]
  },
  {
   "cell_type": "markdown",
   "metadata": {},
   "source": [
    "Lo siguiente ahora que conocemos los tipos de datos es, **Lógica**:\n",
    "\n",
    "Con la lógica podemos hacer que nuestro codigo realice las accines que necesitamos de forma mas eficiente y rápida, solo necesitamos una serie de herramientas que, una vez mas, son muy parecidas en todos los lenguajes de programación:\n",
    "\n",
    "Los condicionales y los bucles:\n",
    "\n",
    "Los condicionales, Si una condición es verdad se hará una cosa y si no, se hará otra.\n",
    "\n",
    "Esto se consigue en python usando el *if*:"
   ]
  },
  {
   "cell_type": "code",
   "execution_count": null,
   "metadata": {},
   "outputs": [],
   "source": [
    "if "
   ]
  }
 ],
 "metadata": {
  "kernelspec": {
   "display_name": "Python 3.10.6 64-bit",
   "language": "python",
   "name": "python3"
  },
  "language_info": {
   "codemirror_mode": {
    "name": "ipython",
    "version": 3
   },
   "file_extension": ".py",
   "mimetype": "text/x-python",
   "name": "python",
   "nbconvert_exporter": "python",
   "pygments_lexer": "ipython3",
   "version": "3.10.6"
  },
  "orig_nbformat": 4,
  "vscode": {
   "interpreter": {
    "hash": "341498003124699f099c17d34a8531e936ff6c52485544221b4c74430c97bd9e"
   }
  }
 },
 "nbformat": 4,
 "nbformat_minor": 2
}
